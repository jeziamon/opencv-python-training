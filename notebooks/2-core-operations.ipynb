{
 "cells": [
  {
   "cell_type": "code",
   "execution_count": null,
   "metadata": {},
   "outputs": [],
   "source": [
    "import cv2\n",
    "\n",
    "image = cv2.imread('bernie.jpg', cv2.IMREAD_COLOR)\n",
    "slicedImage = image[302:(322+322), 261:(261+339)] "
   ]
  },
  {
   "cell_type": "code",
   "execution_count": 3,
   "metadata": {},
   "outputs": [],
   "source": [
    "def show_image(image):\n",
    "    cv2.namedWindow('image', cv2.WINDOW_NORMAL)\n",
    "    cv2.imshow('image', image)\n",
    "    cv2.waitKey()\n",
    "    cv2.destroyAllWindows()"
   ]
  },
  {
   "cell_type": "code",
   "execution_count": null,
   "metadata": {},
   "outputs": [],
   "source": [
    "show_image(slicedImage)"
   ]
  },
  {
   "cell_type": "code",
   "execution_count": null,
   "metadata": {},
   "outputs": [],
   "source": [
    "#modifying sliced image to blue\n",
    "slicedImage[:,:,0] = 123\n",
    "show_image(slicedImage)"
   ]
  },
  {
   "cell_type": "code",
   "execution_count": null,
   "metadata": {},
   "outputs": [],
   "source": [
    "from_center = False\n",
    "region = cv2.selectROI(image, from_center)\n",
    "cv2.waitKey(0)\n",
    "cv2.destroyAllWindows();"
   ]
  },
  {
   "cell_type": "code",
   "execution_count": null,
   "metadata": {},
   "outputs": [],
   "source": [
    "print(region)\n"
   ]
  },
  {
   "cell_type": "code",
   "execution_count": null,
   "metadata": {},
   "outputs": [],
   "source": [
    "cropped = image[region[1] : (region[0] + region[2] ), region[0]:(region[1] + region[3])]\n",
    "show_image(cropped)"
   ]
  },
  {
   "cell_type": "code",
   "execution_count": null,
   "metadata": {},
   "outputs": [],
   "source": [
    "#Modifying image to grayscale\n",
    "\n",
    "bernie = cv2.imread('bernie.jpg', cv2.IMREAD_COLOR)\n",
    "\n",
    "grayscale_bernie = cv2.cvtColor(bernie, cv2.COLOR_BGR2GRAY)\n",
    "\n",
    "show_image(grayscale_bernie)\n"
   ]
  },
  {
   "cell_type": "code",
   "execution_count": null,
   "metadata": {},
   "outputs": [],
   "source": [
    "#load a grayscale image\n",
    "bernie = cv2.imread('../assets/bernie.jpg', cv2.IMREAD_GRAYSCALE)\n",
    "\n",
    "show_image(bernie)"
   ]
  },
  {
   "cell_type": "code",
   "execution_count": null,
   "metadata": {},
   "outputs": [],
   "source": [
    "\n",
    "bernie = cv2.imread('bernie.jpg', cv2.IMREAD_COLOR)\n",
    "bernie = cv2.cvtColor(bernie, cv2.COLOR_BGR2RGB)\n",
    "show_image(bernie)"
   ]
  },
  {
   "cell_type": "code",
   "execution_count": null,
   "metadata": {},
   "outputs": [],
   "source": [
    "bernie = cv2.imread('bernie.jpg', cv2.IMREAD_COLOR)\n",
    "bernie = cv2.cvtColor(bernie, cv2.COLOR_RGB2HSV)\n",
    "show_image(bernie)\n",
    "\n",
    "#change picture to original color\n",
    "bernie = cv2.imread('bernie.jpg', cv2.IMREAD_COLOR)"
   ]
  },
  {
   "cell_type": "code",
   "execution_count": 4,
   "metadata": {},
   "outputs": [],
   "source": [
    "#adding 2 image\n",
    "bernie = cv2.imread('../assets/bernie.jpg', cv2.IMREAD_COLOR)\n",
    "howie = cv2.imread('../assets/howie.png', cv2.IMREAD_COLOR)\n",
    "\n",
    "sum_image = cv2.add(bernie, howie)\n",
    "show_image(sum_image)"
   ]
  },
  {
   "cell_type": "code",
   "execution_count": null,
   "metadata": {},
   "outputs": [],
   "source": [
    "#blend 2 image \n",
    "blended = cv2.addWeighted(bernie, 0.8, howie, 0.2, 2)\n",
    "show_image(blended)"
   ]
  },
  {
   "cell_type": "code",
   "execution_count": 5,
   "metadata": {},
   "outputs": [
    {
     "name": "stdout",
     "output_type": "stream",
     "text": [
      "(823, 638, 3)\n"
     ]
    }
   ],
   "source": [
    "#import bigbang image\n",
    "big_bang = cv2.imread('../assets/big-bang.jpg', cv2.IMREAD_COLOR)\n",
    "\n",
    "#reduce the image size to 25%\n",
    "print(big_bang.shape)\n",
    "big_bang = cv2.resize(big_bang, (int(big_bang.shape[1] * 0.25), int(big_bang.shape[0] * 0.25)))\n"
   ]
  },
  {
   "cell_type": "code",
   "execution_count": 6,
   "metadata": {},
   "outputs": [],
   "source": [
    "rows, cols, channels = big_bang.shape"
   ]
  },
  {
   "cell_type": "code",
   "execution_count": 7,
   "metadata": {},
   "outputs": [],
   "source": [
    "roi = bernie[0:rows, 0:cols]\n",
    "\n",
    "cv2.imshow('roi', roi)    \n",
    "cv2.waitKey()\n",
    "cv2.destroyAllWindows()\n"
   ]
  },
  {
   "cell_type": "code",
   "execution_count": 8,
   "metadata": {},
   "outputs": [],
   "source": [
    "#conver image to grayscale\n",
    "bigbang_gray = cv2.cvtColor(big_bang, cv2.COLOR_BGR2GRAY)\n",
    "\n",
    "ret, mask = cv2.threshold(bigbang_gray, 220, 255,cv2.THRESH_BINARY_INV)\n",
    "\n",
    "cv2.imshow('mask', mask)\n",
    "cv2.waitKey(0)\n",
    "cv2.destroyAllWindows()"
   ]
  },
  {
   "cell_type": "code",
   "execution_count": 9,
   "metadata": {},
   "outputs": [],
   "source": [
    "#invert image\n",
    "mask_inv = cv2.bitwise_not(mask)\n",
    "\n",
    "cv2.imshow('mask_inv', mask_inv)\n",
    "cv2.waitKey(0)\n",
    "cv2.destroyAllWindows()"
   ]
  },
  {
   "cell_type": "code",
   "execution_count": 10,
   "metadata": {},
   "outputs": [],
   "source": [
    "bernie_bg = cv2.bitwise_and(roi, roi, mask= mask_inv)\n",
    "\n",
    "cv2.imshow('bernie_bg', bernie_bg)\n",
    "cv2.waitKey(0)\n",
    "cv2.destroyAllWindows()"
   ]
  },
  {
   "cell_type": "code",
   "execution_count": 11,
   "metadata": {},
   "outputs": [],
   "source": [
    "bigbang_fg = cv2.bitwise_and(big_bang, big_bang, mask = mask)\n",
    "\n",
    "cv2.imshow('bigbang_fg', bigbang_fg)\n",
    "cv2.waitKey(0)\n",
    "cv2.destroyAllWindows()"
   ]
  },
  {
   "cell_type": "code",
   "execution_count": 12,
   "metadata": {},
   "outputs": [],
   "source": [
    "dst = cv2.add(bernie_bg, bigbang_fg)\n",
    "bernie[0:rows, 0:cols] = dst\n",
    "\n",
    "cv2.namedWindow('bernie_bigbang', cv2.WINDOW_NORMAL)\n",
    "cv2.imshow('bernie_bigbang', bernie)\n",
    "cv2.waitKey(0)\n",
    "cv2.destroyAllWindows()"
   ]
  },
  {
   "cell_type": "code",
   "execution_count": 13,
   "metadata": {},
   "outputs": [],
   "source": [
    "amon = cv2.imread('../assets/amon.jpg', cv2.IMREAD_COLOR)\n",
    "accenture = cv2.imread('../assets/accenture.png', cv2.IMREAD_COLOR)\n",
    "\n",
    "#accenture = cv2.resize(accenture, (int(accenture.shape[1] * 0.25), int(accenture.shape[0] * 0.25)))\n",
    "rows, cols, channels = accenture.shape\n",
    "\n",
    "roi = amon[0:rows, 0:cols]\n",
    "\n",
    "accenture_gray = cv2.cvtColor(accenture, cv2.COLOR_BGR2GRAY)\n",
    "ret, mask = cv2.threshold(accenture_gray, 220, 255,cv2.THRESH_BINARY_INV)\n",
    "\n",
    "mask_inv = cv2.bitwise_not(mask)\n",
    "\n",
    "amon_bg= cv2.bitwise_and(roi, roi, mask = mask_inv)\n",
    "\n",
    "accenture_fg= cv2.bitwise_and(accenture, accenture, mask = mask)\n",
    "\n",
    "dst = cv2.add(amon_bg, accenture_fg)\n",
    "amon[0:rows, 0:cols] = dst\n",
    "\n",
    "cv2.namedWindow('amon_accenture', cv2.WINDOW_NORMAL)\n",
    "cv2.imshow('amon_accenture', amon)\n",
    "cv2.waitKey(0)\n",
    "cv2.destroyAllWindows()\n"
   ]
  },
  {
   "cell_type": "code",
   "execution_count": 14,
   "metadata": {},
   "outputs": [],
   "source": [
    "amon = cv2.imread('../assets/amon.jpg', cv2.IMREAD_COLOR)\n",
    "cap = cv2.VideoCapture(0)\n",
    "\n",
    "\n",
    "while True:\n",
    "    _, frame = cap.read()\n",
    "    rows, cols, _ = frame.shape\n",
    "    amon = cv2.resize(amon, (int(cols), int(rows)))\n",
    "    blended = cv2.addWeighted(frame, 0.8, amon, 0.2, 2)\n",
    "    cv2.imshow('webcam', blended)\n",
    "    \n",
    "    if cv2.waitKey(1) == 27:\n",
    "        break\n",
    "    \n",
    "cap.release()\n",
    "cv2.destroyAllWindows()\n"
   ]
  },
  {
   "cell_type": "code",
   "execution_count": 15,
   "metadata": {},
   "outputs": [],
   "source": [
    "import cv2\n",
    "import numpy as np\n",
    " \n",
    "def apply_invert(frame):\n",
    "    return cv2.bitwise_not(frame)\n",
    " \n",
    "def apply_sepia(frame, intensity=0.5):\n",
    "    blue, green, red = 20, 66, 112\n",
    "    frame = cv2.cvtColor(frame, cv2.COLOR_BGR2BGRA)\n",
    "    frame_height, frame_width, frame_channel = frame.shape\n",
    "    \n",
    "    sepia_bgra = (blue, green, red, 1);\n",
    "    \n",
    "    overlay = np.full((frame_height, frame_width, 4), sepia_bgra, dtype='uint8')\n",
    "    \n",
    "    frame = cv2.addWeighted(overlay, intensity, frame, 1.0, 0)\n",
    "    frame = cv2.cvtColor(frame, cv2.COLOR_BGRA2BGR)\n",
    "    \n",
    "    return frame\n",
    "    \n",
    " \n",
    "cap = cv2.VideoCapture(0)\n",
    " \n",
    "while True:\n",
    "    _, frame = cap.read()\n",
    "    \n",
    "    invert = apply_invert(frame)\n",
    "    sepia = apply_sepia(frame)\n",
    "    \n",
    "    cv2.imshow('frame', frame)\n",
    "    cv2.imshow('sepia', sepia)\n",
    "    \n",
    "    k = cv2.waitKey(1)\n",
    "    \n",
    "    if k == ord('q') or k == 27:\n",
    "        cap.release()\n",
    "        cv2.destroyAllWindows()\n",
    "        break"
   ]
  },
  {
   "cell_type": "code",
   "execution_count": null,
   "metadata": {},
   "outputs": [],
   "source": []
  }
 ],
 "metadata": {
  "kernelspec": {
   "display_name": "Python 3",
   "language": "python",
   "name": "python3"
  },
  "language_info": {
   "codemirror_mode": {
    "name": "ipython",
    "version": 3
   },
   "file_extension": ".py",
   "mimetype": "text/x-python",
   "name": "python",
   "nbconvert_exporter": "python",
   "pygments_lexer": "ipython3",
   "version": "3.6.5"
  }
 },
 "nbformat": 4,
 "nbformat_minor": 2
}
